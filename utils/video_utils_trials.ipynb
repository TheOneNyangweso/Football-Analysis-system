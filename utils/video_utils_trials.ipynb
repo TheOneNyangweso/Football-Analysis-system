{
 "cells": [
  {
   "cell_type": "markdown",
   "metadata": {},
   "source": [
    "A utility notebook to read the video and save the video\n"
   ]
  },
  {
   "cell_type": "code",
   "execution_count": 2,
   "metadata": {},
   "outputs": [],
   "source": [
    "import cv2"
   ]
  },
  {
   "cell_type": "code",
   "execution_count": 4,
   "metadata": {},
   "outputs": [],
   "source": [
    "import os\n",
    "os.chdir('/home/nyangweso/Desktop/Projects/Football-Analysis-system')"
   ]
  },
  {
   "cell_type": "code",
   "execution_count": 3,
   "metadata": {},
   "outputs": [],
   "source": [
    "def read_video(video_path):\n",
    "    \"\"\"read_video : reads a video file and returns the frames\n",
    "\n",
    "    Args:\n",
    "        video_path : frames of the video\n",
    "    \"\"\"\n",
    "    cap = cv2.VideoCapture(video_path)\n",
    "    frames = []\n",
    "    while True:\n",
    "        ret, frame = cap.read()\n",
    "        if not ret:\n",
    "            break\n",
    "        frames.append(frame)\n",
    "    return frames\n",
    "\n",
    "\n",
    "def save_video(output_video_frames, output_video_path):\n",
    "    # XVID is the output format\n",
    "    fourcc = cv2.VideoWriter_fourcc(*'XVID')\n",
    "    # generate a video at the path, of type fourcc @ 24 frames/second and framesize as\n",
    "    # the last parameter (width, height)\n",
    "    out = cv2.VideoWriter(output_video_path, fourcc, 24,\n",
    "                          (output_video_frames[0].shape[1], output_video_frames[0].shape[0]))\n",
    "    for frame in output_video_frames:\n",
    "        out.write(frame)\n",
    "    out.release"
   ]
  },
  {
   "cell_type": "code",
   "execution_count": 5,
   "metadata": {},
   "outputs": [],
   "source": [
    "# Read video\n",
    "path = 'clips/{}/08fd33_4.'\n",
    "video_frames = read_video('clips/input/08fd33_4.mp4')\n",
    "\n",
    "# save video\n",
    "save_video(video_frames, 'clips/output/08fd33_4.avi')"
   ]
  },
  {
   "cell_type": "code",
   "execution_count": null,
   "metadata": {},
   "outputs": [],
   "source": []
  }
 ],
 "metadata": {
  "kernelspec": {
   "display_name": "FastAPI",
   "language": "python",
   "name": "python3"
  },
  "language_info": {
   "codemirror_mode": {
    "name": "ipython",
    "version": 3
   },
   "file_extension": ".py",
   "mimetype": "text/x-python",
   "name": "python",
   "nbconvert_exporter": "python",
   "pygments_lexer": "ipython3",
   "version": "3.11.5"
  }
 },
 "nbformat": 4,
 "nbformat_minor": 2
}
