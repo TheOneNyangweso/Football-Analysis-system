{
 "cells": [
  {
   "cell_type": "markdown",
   "metadata": {},
   "source": [
    "The purpose of the notebook is to finetune the object detection. \\\n",
    "The result is that the model will be able to identify differentiate between players, referee and the ball in much more frames\n"
   ]
  },
  {
   "cell_type": "code",
   "execution_count": 4,
   "metadata": {},
   "outputs": [
    {
     "name": "stdout",
     "output_type": "stream",
     "text": [
      "Requirement already satisfied: ultralytics in /home/nyangweso/miniconda3/envs/FastAPI/lib/python3.11/site-packages (8.0.230)\n",
      "Requirement already satisfied: matplotlib>=3.3.0 in /home/nyangweso/miniconda3/envs/FastAPI/lib/python3.11/site-packages (from ultralytics) (3.8.2)\n",
      "Requirement already satisfied: numpy>=1.22.2 in /home/nyangweso/miniconda3/envs/FastAPI/lib/python3.11/site-packages (from ultralytics) (1.26.3)\n",
      "Requirement already satisfied: opencv-python>=4.6.0 in /home/nyangweso/miniconda3/envs/FastAPI/lib/python3.11/site-packages (from ultralytics) (4.8.1.78)\n",
      "Requirement already satisfied: pillow>=7.1.2 in /home/nyangweso/miniconda3/envs/FastAPI/lib/python3.11/site-packages (from ultralytics) (10.1.0)\n",
      "Requirement already satisfied: pyyaml>=5.3.1 in /home/nyangweso/miniconda3/envs/FastAPI/lib/python3.11/site-packages (from ultralytics) (6.0.1)\n",
      "Requirement already satisfied: requests>=2.23.0 in /home/nyangweso/miniconda3/envs/FastAPI/lib/python3.11/site-packages (from ultralytics) (2.31.0)\n",
      "Requirement already satisfied: scipy>=1.4.1 in /home/nyangweso/miniconda3/envs/FastAPI/lib/python3.11/site-packages (from ultralytics) (1.11.2)\n",
      "Requirement already satisfied: torch>=1.8.0 in /home/nyangweso/miniconda3/envs/FastAPI/lib/python3.11/site-packages (from ultralytics) (2.0.1)\n",
      "Requirement already satisfied: torchvision>=0.9.0 in /home/nyangweso/miniconda3/envs/FastAPI/lib/python3.11/site-packages (from ultralytics) (0.16.2)\n",
      "Requirement already satisfied: tqdm>=4.64.0 in /home/nyangweso/miniconda3/envs/FastAPI/lib/python3.11/site-packages (from ultralytics) (4.66.1)\n",
      "Requirement already satisfied: pandas>=1.1.4 in /home/nyangweso/miniconda3/envs/FastAPI/lib/python3.11/site-packages (from ultralytics) (2.0.3)\n",
      "Requirement already satisfied: seaborn>=0.11.0 in /home/nyangweso/miniconda3/envs/FastAPI/lib/python3.11/site-packages (from ultralytics) (0.13.0)\n",
      "Requirement already satisfied: psutil in /home/nyangweso/miniconda3/envs/FastAPI/lib/python3.11/site-packages (from ultralytics) (5.9.0)\n",
      "Requirement already satisfied: py-cpuinfo in /home/nyangweso/miniconda3/envs/FastAPI/lib/python3.11/site-packages (from ultralytics) (9.0.0)\n",
      "Requirement already satisfied: thop>=0.1.1 in /home/nyangweso/miniconda3/envs/FastAPI/lib/python3.11/site-packages (from ultralytics) (0.1.1.post2209072238)\n",
      "Requirement already satisfied: contourpy>=1.0.1 in /home/nyangweso/miniconda3/envs/FastAPI/lib/python3.11/site-packages (from matplotlib>=3.3.0->ultralytics) (1.2.0)\n",
      "Requirement already satisfied: cycler>=0.10 in /home/nyangweso/miniconda3/envs/FastAPI/lib/python3.11/site-packages (from matplotlib>=3.3.0->ultralytics) (0.10.0)\n",
      "Requirement already satisfied: fonttools>=4.22.0 in /home/nyangweso/miniconda3/envs/FastAPI/lib/python3.11/site-packages (from matplotlib>=3.3.0->ultralytics) (4.47.0)\n",
      "Requirement already satisfied: kiwisolver>=1.3.1 in /home/nyangweso/miniconda3/envs/FastAPI/lib/python3.11/site-packages (from matplotlib>=3.3.0->ultralytics) (1.4.5)\n",
      "Requirement already satisfied: packaging>=20.0 in /home/nyangweso/miniconda3/envs/FastAPI/lib/python3.11/site-packages (from matplotlib>=3.3.0->ultralytics) (23.2)\n",
      "Requirement already satisfied: pyparsing>=2.3.1 in /home/nyangweso/miniconda3/envs/FastAPI/lib/python3.11/site-packages (from matplotlib>=3.3.0->ultralytics) (3.1.1)\n",
      "Requirement already satisfied: python-dateutil>=2.7 in /home/nyangweso/miniconda3/envs/FastAPI/lib/python3.11/site-packages (from matplotlib>=3.3.0->ultralytics) (2.8.2)\n",
      "Requirement already satisfied: pytz>=2020.1 in /home/nyangweso/miniconda3/envs/FastAPI/lib/python3.11/site-packages (from pandas>=1.1.4->ultralytics) (2023.3.post1)\n",
      "Requirement already satisfied: tzdata>=2022.1 in /home/nyangweso/miniconda3/envs/FastAPI/lib/python3.11/site-packages (from pandas>=1.1.4->ultralytics) (2023.3)\n",
      "Requirement already satisfied: charset-normalizer<4,>=2 in /home/nyangweso/miniconda3/envs/FastAPI/lib/python3.11/site-packages (from requests>=2.23.0->ultralytics) (3.3.2)\n",
      "Requirement already satisfied: idna<4,>=2.5 in /home/nyangweso/miniconda3/envs/FastAPI/lib/python3.11/site-packages (from requests>=2.23.0->ultralytics) (2.10)\n",
      "Requirement already satisfied: urllib3<3,>=1.21.1 in /home/nyangweso/miniconda3/envs/FastAPI/lib/python3.11/site-packages (from requests>=2.23.0->ultralytics) (2.0.7)\n",
      "Requirement already satisfied: certifi>=2017.4.17 in /home/nyangweso/miniconda3/envs/FastAPI/lib/python3.11/site-packages (from requests>=2.23.0->ultralytics) (2023.7.22)\n",
      "Requirement already satisfied: filelock in /home/nyangweso/miniconda3/envs/FastAPI/lib/python3.11/site-packages (from torch>=1.8.0->ultralytics) (3.13.1)\n",
      "Requirement already satisfied: typing-extensions in /home/nyangweso/miniconda3/envs/FastAPI/lib/python3.11/site-packages (from torch>=1.8.0->ultralytics) (4.8.0)\n",
      "Requirement already satisfied: sympy in /home/nyangweso/miniconda3/envs/FastAPI/lib/python3.11/site-packages (from torch>=1.8.0->ultralytics) (1.12)\n",
      "Requirement already satisfied: networkx in /home/nyangweso/miniconda3/envs/FastAPI/lib/python3.11/site-packages (from torch>=1.8.0->ultralytics) (3.1)\n",
      "Requirement already satisfied: jinja2 in /home/nyangweso/miniconda3/envs/FastAPI/lib/python3.11/site-packages (from torch>=1.8.0->ultralytics) (3.1.2)\n",
      "Requirement already satisfied: nvidia-cuda-nvrtc-cu11==11.7.99 in /home/nyangweso/miniconda3/envs/FastAPI/lib/python3.11/site-packages (from torch>=1.8.0->ultralytics) (11.7.99)\n",
      "Requirement already satisfied: nvidia-cuda-runtime-cu11==11.7.99 in /home/nyangweso/miniconda3/envs/FastAPI/lib/python3.11/site-packages (from torch>=1.8.0->ultralytics) (11.7.99)\n",
      "Requirement already satisfied: nvidia-cuda-cupti-cu11==11.7.101 in /home/nyangweso/miniconda3/envs/FastAPI/lib/python3.11/site-packages (from torch>=1.8.0->ultralytics) (11.7.101)\n",
      "Requirement already satisfied: nvidia-cudnn-cu11==8.5.0.96 in /home/nyangweso/miniconda3/envs/FastAPI/lib/python3.11/site-packages (from torch>=1.8.0->ultralytics) (8.5.0.96)\n",
      "Requirement already satisfied: nvidia-cublas-cu11==11.10.3.66 in /home/nyangweso/miniconda3/envs/FastAPI/lib/python3.11/site-packages (from torch>=1.8.0->ultralytics) (11.10.3.66)\n",
      "Requirement already satisfied: nvidia-cufft-cu11==10.9.0.58 in /home/nyangweso/miniconda3/envs/FastAPI/lib/python3.11/site-packages (from torch>=1.8.0->ultralytics) (10.9.0.58)\n",
      "Requirement already satisfied: nvidia-curand-cu11==10.2.10.91 in /home/nyangweso/miniconda3/envs/FastAPI/lib/python3.11/site-packages (from torch>=1.8.0->ultralytics) (10.2.10.91)\n",
      "Requirement already satisfied: nvidia-cusolver-cu11==11.4.0.1 in /home/nyangweso/miniconda3/envs/FastAPI/lib/python3.11/site-packages (from torch>=1.8.0->ultralytics) (11.4.0.1)\n",
      "Requirement already satisfied: nvidia-cusparse-cu11==11.7.4.91 in /home/nyangweso/miniconda3/envs/FastAPI/lib/python3.11/site-packages (from torch>=1.8.0->ultralytics) (11.7.4.91)\n",
      "Requirement already satisfied: nvidia-nccl-cu11==2.14.3 in /home/nyangweso/miniconda3/envs/FastAPI/lib/python3.11/site-packages (from torch>=1.8.0->ultralytics) (2.14.3)\n",
      "Requirement already satisfied: nvidia-nvtx-cu11==11.7.91 in /home/nyangweso/miniconda3/envs/FastAPI/lib/python3.11/site-packages (from torch>=1.8.0->ultralytics) (11.7.91)\n",
      "Requirement already satisfied: triton==2.0.0 in /home/nyangweso/miniconda3/envs/FastAPI/lib/python3.11/site-packages (from torch>=1.8.0->ultralytics) (2.0.0)\n",
      "Requirement already satisfied: setuptools in /home/nyangweso/miniconda3/envs/FastAPI/lib/python3.11/site-packages (from nvidia-cublas-cu11==11.10.3.66->torch>=1.8.0->ultralytics) (68.0.0)\n",
      "Requirement already satisfied: wheel in /home/nyangweso/miniconda3/envs/FastAPI/lib/python3.11/site-packages (from nvidia-cublas-cu11==11.10.3.66->torch>=1.8.0->ultralytics) (0.41.2)\n",
      "Requirement already satisfied: cmake in /home/nyangweso/miniconda3/envs/FastAPI/lib/python3.11/site-packages (from triton==2.0.0->torch>=1.8.0->ultralytics) (3.28.1)\n",
      "Requirement already satisfied: lit in /home/nyangweso/miniconda3/envs/FastAPI/lib/python3.11/site-packages (from triton==2.0.0->torch>=1.8.0->ultralytics) (17.0.6)\n",
      "Requirement already satisfied: six in /home/nyangweso/miniconda3/envs/FastAPI/lib/python3.11/site-packages (from cycler>=0.10->matplotlib>=3.3.0->ultralytics) (1.16.0)\n",
      "Requirement already satisfied: MarkupSafe>=2.0 in /home/nyangweso/miniconda3/envs/FastAPI/lib/python3.11/site-packages (from jinja2->torch>=1.8.0->ultralytics) (2.1.1)\n",
      "Requirement already satisfied: mpmath>=0.19 in /home/nyangweso/miniconda3/envs/FastAPI/lib/python3.11/site-packages (from sympy->torch>=1.8.0->ultralytics) (1.3.0)\n",
      "Requirement already satisfied: roboflow in /home/nyangweso/miniconda3/envs/FastAPI/lib/python3.11/site-packages (1.1.19)\n",
      "Requirement already satisfied: certifi==2023.7.22 in /home/nyangweso/miniconda3/envs/FastAPI/lib/python3.11/site-packages (from roboflow) (2023.7.22)\n",
      "Requirement already satisfied: chardet==4.0.0 in /home/nyangweso/miniconda3/envs/FastAPI/lib/python3.11/site-packages (from roboflow) (4.0.0)\n",
      "Requirement already satisfied: cycler==0.10.0 in /home/nyangweso/miniconda3/envs/FastAPI/lib/python3.11/site-packages (from roboflow) (0.10.0)\n",
      "Requirement already satisfied: idna==2.10 in /home/nyangweso/miniconda3/envs/FastAPI/lib/python3.11/site-packages (from roboflow) (2.10)\n",
      "Requirement already satisfied: kiwisolver>=1.3.1 in /home/nyangweso/miniconda3/envs/FastAPI/lib/python3.11/site-packages (from roboflow) (1.4.5)\n",
      "Requirement already satisfied: matplotlib in /home/nyangweso/miniconda3/envs/FastAPI/lib/python3.11/site-packages (from roboflow) (3.8.2)\n",
      "Requirement already satisfied: numpy>=1.18.5 in /home/nyangweso/miniconda3/envs/FastAPI/lib/python3.11/site-packages (from roboflow) (1.26.3)\n",
      "Requirement already satisfied: opencv-python-headless==4.8.0.74 in /home/nyangweso/miniconda3/envs/FastAPI/lib/python3.11/site-packages (from roboflow) (4.8.0.74)\n",
      "Requirement already satisfied: Pillow>=7.1.2 in /home/nyangweso/miniconda3/envs/FastAPI/lib/python3.11/site-packages (from roboflow) (10.1.0)\n",
      "Requirement already satisfied: python-dateutil in /home/nyangweso/miniconda3/envs/FastAPI/lib/python3.11/site-packages (from roboflow) (2.8.2)\n",
      "Requirement already satisfied: python-dotenv in /home/nyangweso/miniconda3/envs/FastAPI/lib/python3.11/site-packages (from roboflow) (1.0.0)\n",
      "Requirement already satisfied: requests in /home/nyangweso/miniconda3/envs/FastAPI/lib/python3.11/site-packages (from roboflow) (2.31.0)\n",
      "Requirement already satisfied: six in /home/nyangweso/miniconda3/envs/FastAPI/lib/python3.11/site-packages (from roboflow) (1.16.0)\n",
      "Requirement already satisfied: supervision in /home/nyangweso/miniconda3/envs/FastAPI/lib/python3.11/site-packages (from roboflow) (0.18.0)\n",
      "Requirement already satisfied: urllib3>=1.26.6 in /home/nyangweso/miniconda3/envs/FastAPI/lib/python3.11/site-packages (from roboflow) (2.0.7)\n",
      "Requirement already satisfied: tqdm>=4.41.0 in /home/nyangweso/miniconda3/envs/FastAPI/lib/python3.11/site-packages (from roboflow) (4.66.1)\n",
      "Requirement already satisfied: PyYAML>=5.3.1 in /home/nyangweso/miniconda3/envs/FastAPI/lib/python3.11/site-packages (from roboflow) (6.0.1)\n",
      "Requirement already satisfied: requests-toolbelt in /home/nyangweso/miniconda3/envs/FastAPI/lib/python3.11/site-packages (from roboflow) (1.0.0)\n",
      "Requirement already satisfied: python-magic in /home/nyangweso/miniconda3/envs/FastAPI/lib/python3.11/site-packages (from roboflow) (0.4.27)\n",
      "Requirement already satisfied: contourpy>=1.0.1 in /home/nyangweso/miniconda3/envs/FastAPI/lib/python3.11/site-packages (from matplotlib->roboflow) (1.2.0)\n",
      "Requirement already satisfied: fonttools>=4.22.0 in /home/nyangweso/miniconda3/envs/FastAPI/lib/python3.11/site-packages (from matplotlib->roboflow) (4.47.0)\n",
      "Requirement already satisfied: packaging>=20.0 in /home/nyangweso/miniconda3/envs/FastAPI/lib/python3.11/site-packages (from matplotlib->roboflow) (23.2)\n",
      "Requirement already satisfied: pyparsing>=2.3.1 in /home/nyangweso/miniconda3/envs/FastAPI/lib/python3.11/site-packages (from matplotlib->roboflow) (3.1.1)\n",
      "Requirement already satisfied: charset-normalizer<4,>=2 in /home/nyangweso/miniconda3/envs/FastAPI/lib/python3.11/site-packages (from requests->roboflow) (3.3.2)\n",
      "Requirement already satisfied: defusedxml<0.8.0,>=0.7.1 in /home/nyangweso/miniconda3/envs/FastAPI/lib/python3.11/site-packages (from supervision->roboflow) (0.7.1)\n",
      "Requirement already satisfied: scipy<2.0.0,>=1.10.0 in /home/nyangweso/miniconda3/envs/FastAPI/lib/python3.11/site-packages (from supervision->roboflow) (1.11.2)\n"
     ]
    }
   ],
   "source": [
    "!pip install ultralytics\n",
    "!pip install roboflow"
   ]
  },
  {
   "cell_type": "code",
   "execution_count": 5,
   "metadata": {},
   "outputs": [],
   "source": [
    "# Local\n",
    "import os\n",
    "os.chdir('/home/nyangweso/Desktop/Projects/Football-Analysis-system/training')\n",
    "# For colab\n",
    "# from google.colab import drive\n",
    "# from pathlib import Path\n",
    "# import os\n",
    "# drive.mount('/content/drive')\n",
    "# x = '/content/drive/MyDrive/Football-Analysis-System/'\n",
    "# path = Path(x)\n",
    "# os.listdir(path)\n",
    "# cd /content/drive/MyDrive/Football-Analysis-System\n",
    "# os.mkdir('training')\n",
    "# cd ./training"
   ]
  },
  {
   "cell_type": "code",
   "execution_count": 6,
   "metadata": {},
   "outputs": [],
   "source": [
    "import json"
   ]
  },
  {
   "cell_type": "markdown",
   "metadata": {},
   "source": [
    "Yolov5 will be used for this since it is much better at detecting a football object.\n"
   ]
  },
  {
   "cell_type": "markdown",
   "metadata": {},
   "source": [
    "### Getting dataset to finetune from roboflow\n"
   ]
  },
  {
   "cell_type": "code",
   "execution_count": 7,
   "metadata": {},
   "outputs": [],
   "source": [
    "with open('/home/nyangweso/Desktop/Projects/Football-Analysis-system/config.json', 'r') as f:\n",
    "    CONFIG = json.load(f)\n",
    "    key = CONFIG['ROBOFLOW']\n",
    "# Colab alternative\n",
    "# with open(f'{path}/config.json', 'r') as f:\n",
    "#     CONFIG = json.load(f)\n",
    "#     key = CONFIG['ROBOFLOW']"
   ]
  },
  {
   "cell_type": "code",
   "execution_count": 8,
   "metadata": {},
   "outputs": [
    {
     "name": "stdout",
     "output_type": "stream",
     "text": [
      "loading Roboflow workspace...\n",
      "loading Roboflow project...\n"
     ]
    },
    {
     "name": "stderr",
     "output_type": "stream",
     "text": [
      "Downloading Dataset Version Zip in football-players-detection-1 to yolov5pytorch:: 100%|██████████| 148663/148663 [02:31<00:00, 983.45it/s] "
     ]
    },
    {
     "name": "stdout",
     "output_type": "stream",
     "text": [
      "\n"
     ]
    },
    {
     "name": "stderr",
     "output_type": "stream",
     "text": [
      "\n",
      "Extracting Dataset Version Zip to football-players-detection-1 in yolov5pytorch:: 100%|██████████| 1338/1338 [00:02<00:00, 451.42it/s] \n"
     ]
    }
   ],
   "source": [
    "from roboflow import Roboflow\n",
    "rf = Roboflow(api_key=f\"{key}\")\n",
    "project = rf.workspace(\n",
    "    \"roboflow-jvuqo\").project(\"football-players-detection-3zvbc\")\n",
    "version = project.version(1)\n",
    "dataset = version.download(\"yolov5\")"
   ]
  },
  {
   "cell_type": "code",
   "execution_count": 9,
   "metadata": {},
   "outputs": [
    {
     "data": {
      "text/plain": [
       "'/home/nyangweso/Desktop/Projects/Football-Analysis-system/training/football-players-detection-1'"
      ]
     },
     "execution_count": 9,
     "metadata": {},
     "output_type": "execute_result"
    }
   ],
   "source": [
    "dataset.location"
   ]
  },
  {
   "cell_type": "code",
   "execution_count": 10,
   "metadata": {},
   "outputs": [],
   "source": [
    "import shutil\n",
    "\n",
    "# move dataset from directory to sub-directory...otherwises it crashes for some\n",
    "# reason (bug to be looked at later)\n",
    "# local code...\n",
    "os.chdir('/home/nyangweso/Desktop/Projects/Football-Analysis-system/training/football-players-detection-1')\n",
    "os.mkdir('football-players-detection-1')\n",
    "for _ in ['test', 'train', 'valid']:\n",
    "    shutil.move(f'./{_}', f'./football-players-detection-1/{_}')\n",
    "\n",
    "# Colab alternative\n",
    "# for _ in ['test', 'train', 'valid']:\n",
    "#     shutil.move(f'/content/drive/MyDrive/Football-Analysis-System/training/football-players-detection-1/{_}',\n",
    "#                 f'/content/drive/MyDrive/Football-Analysis-System/training/football-players-detection-1/football-players-detection-1/{_}')"
   ]
  },
  {
   "cell_type": "markdown",
   "metadata": {},
   "source": [
    "### Training\n",
    "\n",
    "This part was done in a copy of this notebook in google colab and the resulting models i.e best.pt & last.pt downloaded and saved in a runs folder.\\\n",
    "The models were then moved in their own models folder\n"
   ]
  },
  {
   "cell_type": "code",
   "execution_count": null,
   "metadata": {},
   "outputs": [],
   "source": [
    "!yolo task=detect mode=train model=yolov5x.pt data={dataset.location}/data.yaml epochs=150 imgsz=640"
   ]
  },
  {
   "cell_type": "code",
   "execution_count": null,
   "metadata": {},
   "outputs": [],
   "source": []
  }
 ],
 "metadata": {
  "kernelspec": {
   "display_name": "FastAPI",
   "language": "python",
   "name": "python3"
  },
  "language_info": {
   "codemirror_mode": {
    "name": "ipython",
    "version": 3
   },
   "file_extension": ".py",
   "mimetype": "text/x-python",
   "name": "python",
   "nbconvert_exporter": "python",
   "pygments_lexer": "ipython3",
   "version": "3.11.5"
  }
 },
 "nbformat": 4,
 "nbformat_minor": 2
}
