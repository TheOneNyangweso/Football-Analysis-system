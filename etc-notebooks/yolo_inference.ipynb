{
 "cells": [
  {
   "cell_type": "code",
   "execution_count": 1,
   "metadata": {},
   "outputs": [],
   "source": [
    "# To be commented out if colab is not used\n",
    "# from google.colab import drive\n",
    "# from pathlib import Path\n",
    "# import os\n",
    "# drive.mount('/content/drive')\n",
    "# x = '/content/drive/MyDrive/Football-Analysis-System/'\n",
    "# path = Path(x)\n",
    "# os.listdir(path)"
   ]
  },
  {
   "cell_type": "markdown",
   "metadata": {},
   "source": [
    "This is a colab related directory command...to be commented out if local\n",
    "machine is being used\n"
   ]
  },
  {
   "cell_type": "code",
   "execution_count": 2,
   "metadata": {},
   "outputs": [],
   "source": [
    "# cd / content/drive/MyDrive/Football-Analysis-System"
   ]
  },
  {
   "cell_type": "code",
   "execution_count": 1,
   "metadata": {},
   "outputs": [],
   "source": [
    "from ultralytics import YOLO"
   ]
  },
  {
   "cell_type": "markdown",
   "metadata": {},
   "source": [
    "Higher yolo models such as yolov8l and yolov8x produce better results but putting my machine into consideration \\\n",
    "I'll use yolov8m. But since Colab offers free gpu...that will be used for now\n"
   ]
  },
  {
   "cell_type": "code",
   "execution_count": 3,
   "metadata": {},
   "outputs": [],
   "source": [
    "# Local base model\n",
    "model = YOLO('yolov8m')\n",
    "# Colab base model\n",
    "# model = YOLO('yolov8x')\n",
    "# local fine-tuned model\n",
    "updated_model = YOLO(\n",
    "    '/home/nyangweso/Desktop/Projects/Football-Analysis-system/models/best.pt')\n",
    "# colab fine-tuned model\n",
    "# updated_model = YOLO(f'{path}/runs/models/best.pt')"
   ]
  },
  {
   "cell_type": "markdown",
   "metadata": {},
   "source": [
    "Let's see how the base model and a fine-tuned model perform in Colab. The expected output is a video with bounding boxes\n"
   ]
  },
  {
   "cell_type": "code",
   "execution_count": null,
   "metadata": {},
   "outputs": [],
   "source": [
    "# local version\n",
    "# result = model.predict(\n",
    "#     '/home/nyangweso/Desktop/Projects/Football-Analysis-system/clips/08fd33_4.mp4', save=True)\n",
    "\n",
    "# colab version\n",
    "\n",
    "\n",
    "print(result[0])\n",
    "print('============================')\n",
    "for box in result[0].boxes:\n",
    "    print(box)"
   ]
  },
  {
   "cell_type": "code",
   "execution_count": null,
   "metadata": {},
   "outputs": [],
   "source": [
    "# Updated model\n",
    "result = updated_model.predict(f'{path}/clips/08fd33_4.mp4', save=True)\n",
    "\n",
    "print(result[0])\n",
    "print('============================')\n",
    "for box in result[0].boxes:\n",
    "    print(box)"
   ]
  },
  {
   "cell_type": "markdown",
   "metadata": {},
   "source": []
  }
 ],
 "metadata": {
  "kernelspec": {
   "display_name": "FastAPI",
   "language": "python",
   "name": "python3"
  },
  "language_info": {
   "codemirror_mode": {
    "name": "ipython",
    "version": 3
   },
   "file_extension": ".py",
   "mimetype": "text/x-python",
   "name": "python",
   "nbconvert_exporter": "python",
   "pygments_lexer": "ipython3",
   "version": "3.1.undefined"
  }
 },
 "nbformat": 4,
 "nbformat_minor": 2
}
